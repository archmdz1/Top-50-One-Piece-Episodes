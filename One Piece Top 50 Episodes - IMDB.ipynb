{
 "cells": [
  {
   "attachments": {},
   "cell_type": "markdown",
   "metadata": {},
   "source": [
    "The objective of this project is to scrape the IMDB website for the top 50 One Piece episodes and importing all the necessary data to an excel workbook."
   ]
  },
  {
   "attachments": {},
   "cell_type": "markdown",
   "metadata": {},
   "source": [
    "Importing necessary libraries for the project."
   ]
  },
  {
   "cell_type": "code",
   "execution_count": 1,
   "metadata": {},
   "outputs": [],
   "source": [
    "from bs4 import BeautifulSoup as bs\n",
    "import requests as req\n",
    "import openpyxl as opl"
   ]
  },
  {
   "attachments": {},
   "cell_type": "markdown",
   "metadata": {},
   "source": [
    "Using openpyxl library to create a new excel workbook."
   ]
  },
  {
   "cell_type": "code",
   "execution_count": 2,
   "metadata": {},
   "outputs": [
    {
     "name": "stdout",
     "output_type": "stream",
     "text": [
      "['Sheet']\n",
      "['Top Rated OP episodes']\n"
     ]
    }
   ],
   "source": [
    "excel = opl.Workbook()\n",
    "print(excel.sheetnames)\n",
    "sheet = excel.active\n",
    "sheet.title = 'Top Rated OP episodes'\n",
    "print(excel.sheetnames)\n",
    "sheet.append(['rank, title, rate, votecount'])"
   ]
  },
  {
   "attachments": {},
   "cell_type": "markdown",
   "metadata": {},
   "source": [
    "Using requests and BeautifulSoup to fetch data from the desired website."
   ]
  },
  {
   "cell_type": "code",
   "execution_count": 3,
   "metadata": {},
   "outputs": [],
   "source": [
    "url = req.get(\"https://www.imdb.com/search/title/?series=tt0388629&sort=user_rating,desc&view=advanced\")\n",
    "soup = bs(url.text, 'html.parser')\n",
    "\n",
    "lists = soup.find('div', class_=\"lister-list\").find_all('div', class_=\"lister-item-content\")"
   ]
  },
  {
   "attachments": {},
   "cell_type": "markdown",
   "metadata": {},
   "source": [
    "Scraping all necessary data from the site and importing it to MsExcel."
   ]
  },
  {
   "cell_type": "code",
   "execution_count": 4,
   "metadata": {},
   "outputs": [
    {
     "name": "stdout",
     "output_type": "stream",
     "text": [
      "1.One Piece: Wan pîsu(1999– )Episode:The Pirate King is Born: Arriving at the Last Island!(2021) 1 9.8 8,212\n",
      "2.One Piece: Wan pîsu(1999– )Episode:Kotae o Sagashite: Hiken Ace Senjou ni Shisu(2011) 2 9.8 4,441\n",
      "3.One Piece: Wan pîsu(1999– )Episode:Kejime o Tsukeru: Shirohige vs Kurohige Kaizokudan(2011) 3 9.8 3,786\n",
      "4.One Piece: Wan pîsu(1999– )Episode:Barrage of Powerful Techniques! The Fierce Attacks of the Worst Generation!(2022) 4 9.8 6,352\n",
      "5.One Piece: Wan pîsu(1999– )Episode:Kanashiki Kettou: Luffy tai Sanji (Kouhen)(2017) 5 9.8 4,081\n",
      "6.One Piece: Wan pîsu(1999– )Episode:Ikitai to Ie! Oretachi wa Nakama Da!!(2006) 6 9.7 2,608\n",
      "7.One Piece: Wan pîsu(1999– )Episode:Nakama no Itami wa Waga Itami: Zoro Kesshi no Tatakai(2008) 7 9.7 3,888\n",
      "8.One Piece: Wan pîsu(1999– )Episode:Blades Crossed! Roger and Whitebeard!(2021) 8 9.7 5,361\n",
      "9.One Piece: Wan pîsu(1999– )Episode:Kesareta Nakama-tachi: Mugiwara Ichimi Saigo no Hi(2009) 9 9.7 3,157\n",
      "10.One Piece: Wan pîsu(1999– )Episode:Oden Wouldn't Be Oden If It Wasn't Boiled!(2021) 10 9.7 4,910\n",
      "11.One Piece: Wan pîsu(1999– )Episode:Kaigun Honbu Houkai! Shirohige Kotobanaki Ikari!(2011) 11 9.7 2,747\n",
      "12.One Piece: Wan pîsu(1999– )Episode:Straw Hat Luffy! The Man Who Will Become the King of the Pirates!(2022) 12 9.7 20,719\n",
      "13.One Piece: Wan pîsu(1999– )Episode:Surpass the Emperor of the Sea! Luffy Strikes Back with an Iron Fist!(2022) 13 9.7 2,209\n",
      "14.One Piece: Wan pîsu(1999– )Episode:A Fist of Divine Speed! Another Gear Four Application Activated!(2019) 14 9.7 3,976\n",
      "15.One Piece: Wan pîsu(1999– )Episode:Arigatou Merry! Yuki ni Kemuru Wakare no Umi(2007) 15 9.6 2,570\n",
      "16.One Piece: Wan pîsu(1999– )Episode:Finally Clashing! The Ferocious Luffy vs. Kaido!(2019) 16 9.6 2,491\n",
      "17.One Piece: Wan pîsu(1999– )Episode:Big News! The Warlords Attack Incident(2021) 17 9.6 7,173\n",
      "18.One Piece: Wan pîsu(1999– )Episode:Kaido's Trump Card - Introducing the Tobi Roppo(2021) 18 9.6 8,375\n",
      "19.One Piece: Wan pîsu(1999– )Episode:Raid! Inheriting Oden's Will(2021) 19 9.6 3,528\n",
      "20.One Piece: Wan pîsu(1999– )Episode:Hi o mo Yaki Tsukusu Chikara: Akainu Hijou no Tsuigeki(2011) 20 9.6 3,012\n",
      "21.One Piece: Wan pîsu(1999– )Episode:The Conclusion! Luffy's Accelerating Fist of the Supreme King(2022) 21 9.6 2,068\n",
      "22.One Piece: Wan pîsu(1999– )Episode:Yuke Law: Yasashiki Otoko Saigo no Tatakai!(2015) 22 9.6 2,287\n",
      "23.One Piece: Wan pîsu(1999– )Episode:Gear Fourth! Kyoui no Bounce Man!(2016) 23 9.6 2,361\n",
      "24.One Piece: Wan pîsu(1999– )Episode:Luffy VS Usopp! Butsukaru Otoko no Iji(2005) 24 9.5 2,250\n",
      "25.One Piece: Wan pîsu(1999– )Episode:Kobushi ni Kometa Omoi! Luffy Konshin no Gatling(2007) 25 9.5 2,465\n",
      "26.One Piece: Wan pîsu(1999– )Episode:Hakai-teki! Ichigeki Hissatsu no Raimei Hakke!(2019) 26 9.5 2,206\n",
      "27.One Piece: Wan pîsu(1999– )Episode:\"The Legendary Battle! Garp and Roger\"(2021) 27 9.5 4,764\n",
      "28.One Piece: Wan pîsu(1999– )Episode:Tekken Sakuretsu! Auction o Buttsubuse(2009) 28 9.5 2,167\n",
      "29.One Piece: Wan pîsu(1999– )Episode:Roger's Wish! A New Journey!(2021) 29 9.5 3,728\n",
      "30.One Piece: Wan pîsu(1999– )Episode:Devoting His Life! Roger's Adventure(2021) 30 9.5 3,585\n",
      "31.One Piece: Wan pîsu(1999– )Episode:The Moment of Conclusion! Oden vs. Kaido!(2021) 31 9.5 3,961\n",
      "32.One Piece: Wan pîsu(1999– )Episode:The Sea Is For Pirates! Raid! To Onigashima(2021) 32 9.5 3,551\n",
      "33.One Piece: Wan pîsu(1999– )Episode:The Worst Generation Charges in! The Battle of the Stormy Sea(2021) 33 9.5 3,709\n",
      "34.One Piece: Wan pîsu(1999– )Episode:Ace Kyuushutsu! Shirohige Saigo no Senchou Meirei!(2010) 34 9.5 2,169\n",
      "35.One Piece: Wan pîsu(1999– )Episode:Hisshi no Sakebi: Unmei o Kaeru Yuuki Aru Suubyou(2011) 35 9.5 2,205\n",
      "36.One Piece: Wan pîsu(1999– )Episode:Shanks Kenzan! Choujou Sensou Tsui ni Shuuketsu(2011) 36 9.5 2,153\n",
      "37.One Piece: Wan pîsu(1999– )Episode:The Supernovas Strike Back! The Mission to Tear Apart the Emperors!(2022) 37 9.5 2,020\n",
      "38.One Piece: Wan pîsu(1999– )Episode:Defend Luffy! Zoro and Law's Sword Technique!(2022) 38 9.5 1,935\n",
      "39.One Piece: Wan pîsu(1999– )Episode:Taking a Chance! The Two Arms Go into Battle!(2023) 39 9.5 1,352\n",
      "40.One Piece: Wan pîsu(1999– )Episode:Luffy Soars! Revenge Against the King of the Beasts!(2023) 40 9.5 1,096\n",
      "41.One Piece: Wan pîsu(1999– )Episode:Kuuchuu Kessen: Zoro Shin Hissastsu Ougi Sakuretsu!(2015) 41 9.5 2,018\n",
      "42.One Piece: Wan pîsu(1999– )Episode:East Blue e: Sanji Ketsui no Funade(2017) 42 9.5 2,002\n",
      "43.One Piece: Wan pîsu(1999– )Episode:Shikemoku: Sanji no Kekkon Zen'ya(2017) 43 9.5 2,068\n",
      "44.One Piece: Wan pîsu(1999– )Episode:Returning the Sake Cup! The Manly Jimbei Pays His Debt!(2018) 44 9.5 1,952\n",
      "45.One Piece: Wan pîsu(1999– )Episode:One Man's Determination! Katakuri's Deadly Big Fight!(2019) 45 9.5 2,198\n",
      "46.One Piece: Wan pîsu(1999– )Episode:Koeteiku! Arabasta ni Ame ga Furu!(2002) 46 9.4 2,249\n",
      "47.One Piece: Wan pîsu(1999– )Episode:Wano Country! To the Land of Dancing Sakura and Samurai(2019) 47 9.4 2,186\n",
      "48.One Piece: Wan pîsu(1999– )Episode:A Big Turnover! The Three-Sword Style Overcomes Danger!(2020) 48 9.4 2,232\n",
      "49.One Piece: Wan pîsu(1999– )Episode:Zoro's Fury! The Truth About the Smile!(2020) 49 9.4 1,967\n",
      "50.One Piece: Wan pîsu(1999– )Episode:Oden's Determination! Whitebeard's Trials!(2021) 50 9.4 3,696\n"
     ]
    }
   ],
   "source": [
    "for list in lists:\n",
    "    title = list.find('h3', class_=\"lister-item-header\").get_text(strip=True)\n",
    "    rank = list.find('span', class_=\"lister-item-index unbold text-primary\").get_text(strip=True).split('.')[0]\n",
    "    # title = list.find('h3', class_=\"lister-item-header\").find_all('a')\n",
    "    rate = list.find('div', class_=\"inline-block ratings-imdb-rating\").find(\"strong\").get_text(strip=True)\n",
    "    votecount = list.find('p', class_=\"sort-num_votes-visible\").get_text(strip=True).split(':')[1]\n",
    "    \n",
    "    print(title, rank, rate, votecount)\n",
    "    \n",
    "    sheet.append([rank, title, rate, votecount])"
   ]
  },
  {
   "attachments": {},
   "cell_type": "markdown",
   "metadata": {},
   "source": [
    "Saving all scraped data to an excel workbook."
   ]
  },
  {
   "cell_type": "code",
   "execution_count": 5,
   "metadata": {},
   "outputs": [],
   "source": [
    "excel.save('IMDB Top 50 OP Episodes.xlsx')"
   ]
  }
 ],
 "metadata": {
  "kernelspec": {
   "display_name": "Python 3",
   "language": "python",
   "name": "python3"
  },
  "language_info": {
   "codemirror_mode": {
    "name": "ipython",
    "version": 3
   },
   "file_extension": ".py",
   "mimetype": "text/x-python",
   "name": "python",
   "nbconvert_exporter": "python",
   "pygments_lexer": "ipython3",
   "version": "3.11.1"
  },
  "orig_nbformat": 4,
  "vscode": {
   "interpreter": {
    "hash": "02f67369589562c6d38c9d5f6c7379ebe528078585162a94ed60fde7fd7048af"
   }
  }
 },
 "nbformat": 4,
 "nbformat_minor": 2
}
