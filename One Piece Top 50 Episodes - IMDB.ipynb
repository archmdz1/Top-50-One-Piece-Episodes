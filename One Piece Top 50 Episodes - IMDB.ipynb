{
 "cells": [
  {
   "attachments": {},
   "cell_type": "markdown",
   "metadata": {},
   "source": [
    "Importing necessary libraries for the project."
   ]
  },
  {
   "cell_type": "code",
   "execution_count": 1,
   "metadata": {},
   "outputs": [],
   "source": [
    "from bs4 import BeautifulSoup as bs\n",
    "import requests as req\n",
    "import openpyxl as opl"
   ]
  },
  {
   "attachments": {},
   "cell_type": "markdown",
   "metadata": {},
   "source": [
    "Using openpyxl library to create a new excel workbook."
   ]
  },
  {
   "cell_type": "code",
   "execution_count": null,
   "metadata": {},
   "outputs": [],
   "source": [
    "excel = opl.Workbook()\n",
    "print(excel.sheetnames)\n",
    "sheet = excel.active\n",
    "sheet.title = 'Top Rated OP episodes'\n",
    "print(excel.sheetnames)\n",
    "sheet.append(['rank, title, rate, votecount'])"
   ]
  },
  {
   "attachments": {},
   "cell_type": "markdown",
   "metadata": {},
   "source": [
    "Using requests and BeautifulSoup to fetch data from the desired website."
   ]
  },
  {
   "cell_type": "code",
   "execution_count": null,
   "metadata": {},
   "outputs": [],
   "source": [
    "url = req.get(\"https://www.imdb.com/search/title/?series=tt0388629&sort=user_rating,desc&view=advanced\")\n",
    "soup = bs(url.text, 'html.parser')\n",
    "\n",
    "lists = soup.find('div', class_=\"lister-list\").find_all('div', class_=\"lister-item-content\")"
   ]
  },
  {
   "attachments": {},
   "cell_type": "markdown",
   "metadata": {},
   "source": [
    "Scraping all necessary data from the site and importing it to MsExcel."
   ]
  },
  {
   "cell_type": "code",
   "execution_count": null,
   "metadata": {},
   "outputs": [],
   "source": [
    "for list in lists:\n",
    "    title = list.find('h3', class_=\"lister-item-header\").get_text(strip=True)\n",
    "    rank = list.find('span', class_=\"lister-item-index unbold text-primary\").get_text(strip=True).split('.')[0]\n",
    "    # title = list.find('h3', class_=\"lister-item-header\").find_all('a')\n",
    "    rate = list.find('div', class_=\"inline-block ratings-imdb-rating\").find(\"strong\").get_text(strip=True)\n",
    "    votecount = list.find('p', class_=\"sort-num_votes-visible\").get_text(strip=True).split(':')[1]\n",
    "    \n",
    "    print(title, rank, rate, votecount)\n",
    "    \n",
    "    sheet.append([rank, title, rate, votecount])"
   ]
  },
  {
   "attachments": {},
   "cell_type": "markdown",
   "metadata": {},
   "source": [
    "Saving all scraped data to an excel workbook."
   ]
  },
  {
   "cell_type": "code",
   "execution_count": null,
   "metadata": {},
   "outputs": [],
   "source": [
    "excel.save('IMDB Top 50 OP Episodes.xlsx')"
   ]
  }
 ],
 "metadata": {
  "kernelspec": {
   "display_name": "Python 3",
   "language": "python",
   "name": "python3"
  },
  "language_info": {
   "codemirror_mode": {
    "name": "ipython",
    "version": 3
   },
   "file_extension": ".py",
   "mimetype": "text/x-python",
   "name": "python",
   "nbconvert_exporter": "python",
   "pygments_lexer": "ipython3",
   "version": "3.11.1"
  },
  "orig_nbformat": 4,
  "vscode": {
   "interpreter": {
    "hash": "02f67369589562c6d38c9d5f6c7379ebe528078585162a94ed60fde7fd7048af"
   }
  }
 },
 "nbformat": 4,
 "nbformat_minor": 2
}
